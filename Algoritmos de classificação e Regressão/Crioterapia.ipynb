{
 "cells": [
  {
   "cell_type": "code",
   "execution_count": 1,
   "id": "428edaef",
   "metadata": {},
   "outputs": [],
   "source": [
    "# Autor: João Victor de Luna Freire Santiago"
   ]
  },
  {
   "cell_type": "code",
   "execution_count": 22,
   "id": "841112f3",
   "metadata": {},
   "outputs": [],
   "source": [
    "import numpy as np\n",
    "import pandas as pd\n",
    "import matplotlib.pyplot as plt\n",
    "from sklearn.naive_bayes import MultinomialNB\n",
    "from sklearn.naive_bayes import GaussianNB\n",
    "from sklearn.metrics import accuracy_score\n",
    "from sklearn.model_selection import train_test_split"
   ]
  },
  {
   "cell_type": "code",
   "execution_count": 47,
   "id": "e24b0288",
   "metadata": {},
   "outputs": [],
   "source": [
    "crioterapia_treino = pd.read_csv('C:\\\\Users\\\\Joaol\\\\Downloads\\\\trabalho\\\\dados_cryotherapy.csv', encoding=\"utf-8\")"
   ]
  },
  {
   "cell_type": "code",
   "execution_count": 57,
   "id": "8e2fda5b",
   "metadata": {},
   "outputs": [],
   "source": [
    "data_treino = np.array(crioterapia_treino[['Sexo', 'Idade', 'Numero_Verrugas', 'Tipo','Area']])\n",
    "\n",
    "data_classif = np.array(crioterapia_treino['Resultado_Tratamento'])"
   ]
  },
  {
   "cell_type": "code",
   "execution_count": 58,
   "id": "9256b526",
   "metadata": {},
   "outputs": [
    {
     "data": {
      "text/plain": [
       "Sexo                    int64\n",
       "Idade                   int64\n",
       "Tempo                   int64\n",
       "Numero_Verrugas         int64\n",
       "Tipo                    int64\n",
       "Area                    int64\n",
       "Resultado_Tratamento    int64\n",
       "dtype: object"
      ]
     },
     "execution_count": 58,
     "metadata": {},
     "output_type": "execute_result"
    }
   ],
   "source": [
    "crioterapia_treino.dtypes"
   ]
  },
  {
   "cell_type": "code",
   "execution_count": 59,
   "id": "3c168cf1",
   "metadata": {},
   "outputs": [
    {
     "data": {
      "text/html": [
       "<div>\n",
       "<style scoped>\n",
       "    .dataframe tbody tr th:only-of-type {\n",
       "        vertical-align: middle;\n",
       "    }\n",
       "\n",
       "    .dataframe tbody tr th {\n",
       "        vertical-align: top;\n",
       "    }\n",
       "\n",
       "    .dataframe thead th {\n",
       "        text-align: right;\n",
       "    }\n",
       "</style>\n",
       "<table border=\"1\" class=\"dataframe\">\n",
       "  <thead>\n",
       "    <tr style=\"text-align: right;\">\n",
       "      <th></th>\n",
       "      <th>Sexo</th>\n",
       "      <th>Idade</th>\n",
       "      <th>Tempo</th>\n",
       "      <th>Numero_Verrugas</th>\n",
       "      <th>Tipo</th>\n",
       "      <th>Area</th>\n",
       "      <th>Resultado_Tratamento</th>\n",
       "    </tr>\n",
       "  </thead>\n",
       "  <tbody>\n",
       "    <tr>\n",
       "      <th>0</th>\n",
       "      <td>1</td>\n",
       "      <td>35</td>\n",
       "      <td>12</td>\n",
       "      <td>5</td>\n",
       "      <td>1</td>\n",
       "      <td>100</td>\n",
       "      <td>0</td>\n",
       "    </tr>\n",
       "    <tr>\n",
       "      <th>1</th>\n",
       "      <td>1</td>\n",
       "      <td>29</td>\n",
       "      <td>7</td>\n",
       "      <td>5</td>\n",
       "      <td>1</td>\n",
       "      <td>96</td>\n",
       "      <td>1</td>\n",
       "    </tr>\n",
       "    <tr>\n",
       "      <th>2</th>\n",
       "      <td>1</td>\n",
       "      <td>50</td>\n",
       "      <td>8</td>\n",
       "      <td>1</td>\n",
       "      <td>3</td>\n",
       "      <td>132</td>\n",
       "      <td>0</td>\n",
       "    </tr>\n",
       "    <tr>\n",
       "      <th>3</th>\n",
       "      <td>1</td>\n",
       "      <td>32</td>\n",
       "      <td>11</td>\n",
       "      <td>7</td>\n",
       "      <td>3</td>\n",
       "      <td>750</td>\n",
       "      <td>0</td>\n",
       "    </tr>\n",
       "    <tr>\n",
       "      <th>4</th>\n",
       "      <td>1</td>\n",
       "      <td>67</td>\n",
       "      <td>9</td>\n",
       "      <td>1</td>\n",
       "      <td>1</td>\n",
       "      <td>42</td>\n",
       "      <td>0</td>\n",
       "    </tr>\n",
       "    <tr>\n",
       "      <th>5</th>\n",
       "      <td>1</td>\n",
       "      <td>41</td>\n",
       "      <td>8</td>\n",
       "      <td>2</td>\n",
       "      <td>2</td>\n",
       "      <td>20</td>\n",
       "      <td>1</td>\n",
       "    </tr>\n",
       "    <tr>\n",
       "      <th>6</th>\n",
       "      <td>1</td>\n",
       "      <td>36</td>\n",
       "      <td>11</td>\n",
       "      <td>2</td>\n",
       "      <td>1</td>\n",
       "      <td>8</td>\n",
       "      <td>0</td>\n",
       "    </tr>\n",
       "    <tr>\n",
       "      <th>7</th>\n",
       "      <td>1</td>\n",
       "      <td>59</td>\n",
       "      <td>3</td>\n",
       "      <td>3</td>\n",
       "      <td>3</td>\n",
       "      <td>20</td>\n",
       "      <td>0</td>\n",
       "    </tr>\n",
       "    <tr>\n",
       "      <th>8</th>\n",
       "      <td>1</td>\n",
       "      <td>20</td>\n",
       "      <td>4</td>\n",
       "      <td>12</td>\n",
       "      <td>1</td>\n",
       "      <td>6</td>\n",
       "      <td>1</td>\n",
       "    </tr>\n",
       "    <tr>\n",
       "      <th>9</th>\n",
       "      <td>2</td>\n",
       "      <td>34</td>\n",
       "      <td>11</td>\n",
       "      <td>3</td>\n",
       "      <td>3</td>\n",
       "      <td>150</td>\n",
       "      <td>0</td>\n",
       "    </tr>\n",
       "  </tbody>\n",
       "</table>\n",
       "</div>"
      ],
      "text/plain": [
       "   Sexo  Idade  Tempo  Numero_Verrugas  Tipo  Area  Resultado_Tratamento\n",
       "0     1     35     12                5     1   100                     0\n",
       "1     1     29      7                5     1    96                     1\n",
       "2     1     50      8                1     3   132                     0\n",
       "3     1     32     11                7     3   750                     0\n",
       "4     1     67      9                1     1    42                     0\n",
       "5     1     41      8                2     2    20                     1\n",
       "6     1     36     11                2     1     8                     0\n",
       "7     1     59      3                3     3    20                     0\n",
       "8     1     20      4               12     1     6                     1\n",
       "9     2     34     11                3     3   150                     0"
      ]
     },
     "execution_count": 59,
     "metadata": {},
     "output_type": "execute_result"
    }
   ],
   "source": [
    "crioterapia_treino.head(10)"
   ]
  },
  {
   "cell_type": "code",
   "execution_count": 60,
   "id": "6d72a383",
   "metadata": {},
   "outputs": [
    {
     "data": {
      "text/html": [
       "<div>\n",
       "<style scoped>\n",
       "    .dataframe tbody tr th:only-of-type {\n",
       "        vertical-align: middle;\n",
       "    }\n",
       "\n",
       "    .dataframe tbody tr th {\n",
       "        vertical-align: top;\n",
       "    }\n",
       "\n",
       "    .dataframe thead th {\n",
       "        text-align: right;\n",
       "    }\n",
       "</style>\n",
       "<table border=\"1\" class=\"dataframe\">\n",
       "  <thead>\n",
       "    <tr style=\"text-align: right;\">\n",
       "      <th></th>\n",
       "      <th>Sexo</th>\n",
       "      <th>Idade</th>\n",
       "      <th>Tempo</th>\n",
       "      <th>Numero_Verrugas</th>\n",
       "      <th>Tipo</th>\n",
       "      <th>Area</th>\n",
       "      <th>Resultado_Tratamento</th>\n",
       "    </tr>\n",
       "  </thead>\n",
       "  <tbody>\n",
       "    <tr>\n",
       "      <th>80</th>\n",
       "      <td>2</td>\n",
       "      <td>22</td>\n",
       "      <td>5</td>\n",
       "      <td>2</td>\n",
       "      <td>1</td>\n",
       "      <td>70</td>\n",
       "      <td>1</td>\n",
       "    </tr>\n",
       "    <tr>\n",
       "      <th>81</th>\n",
       "      <td>1</td>\n",
       "      <td>16</td>\n",
       "      <td>11</td>\n",
       "      <td>3</td>\n",
       "      <td>2</td>\n",
       "      <td>60</td>\n",
       "      <td>1</td>\n",
       "    </tr>\n",
       "    <tr>\n",
       "      <th>82</th>\n",
       "      <td>2</td>\n",
       "      <td>28</td>\n",
       "      <td>5</td>\n",
       "      <td>9</td>\n",
       "      <td>1</td>\n",
       "      <td>100</td>\n",
       "      <td>1</td>\n",
       "    </tr>\n",
       "    <tr>\n",
       "      <th>83</th>\n",
       "      <td>1</td>\n",
       "      <td>40</td>\n",
       "      <td>11</td>\n",
       "      <td>9</td>\n",
       "      <td>2</td>\n",
       "      <td>80</td>\n",
       "      <td>0</td>\n",
       "    </tr>\n",
       "    <tr>\n",
       "      <th>84</th>\n",
       "      <td>1</td>\n",
       "      <td>30</td>\n",
       "      <td>1</td>\n",
       "      <td>10</td>\n",
       "      <td>1</td>\n",
       "      <td>115</td>\n",
       "      <td>1</td>\n",
       "    </tr>\n",
       "    <tr>\n",
       "      <th>85</th>\n",
       "      <td>2</td>\n",
       "      <td>34</td>\n",
       "      <td>12</td>\n",
       "      <td>3</td>\n",
       "      <td>3</td>\n",
       "      <td>95</td>\n",
       "      <td>0</td>\n",
       "    </tr>\n",
       "    <tr>\n",
       "      <th>86</th>\n",
       "      <td>2</td>\n",
       "      <td>20</td>\n",
       "      <td>3</td>\n",
       "      <td>6</td>\n",
       "      <td>1</td>\n",
       "      <td>75</td>\n",
       "      <td>1</td>\n",
       "    </tr>\n",
       "    <tr>\n",
       "      <th>87</th>\n",
       "      <td>2</td>\n",
       "      <td>35</td>\n",
       "      <td>8</td>\n",
       "      <td>8</td>\n",
       "      <td>3</td>\n",
       "      <td>100</td>\n",
       "      <td>0</td>\n",
       "    </tr>\n",
       "    <tr>\n",
       "      <th>88</th>\n",
       "      <td>1</td>\n",
       "      <td>24</td>\n",
       "      <td>10</td>\n",
       "      <td>10</td>\n",
       "      <td>1</td>\n",
       "      <td>20</td>\n",
       "      <td>1</td>\n",
       "    </tr>\n",
       "    <tr>\n",
       "      <th>89</th>\n",
       "      <td>1</td>\n",
       "      <td>19</td>\n",
       "      <td>8</td>\n",
       "      <td>8</td>\n",
       "      <td>1</td>\n",
       "      <td>160</td>\n",
       "      <td>1</td>\n",
       "    </tr>\n",
       "  </tbody>\n",
       "</table>\n",
       "</div>"
      ],
      "text/plain": [
       "    Sexo  Idade  Tempo  Numero_Verrugas  Tipo  Area  Resultado_Tratamento\n",
       "80     2     22      5                2     1    70                     1\n",
       "81     1     16     11                3     2    60                     1\n",
       "82     2     28      5                9     1   100                     1\n",
       "83     1     40     11                9     2    80                     0\n",
       "84     1     30      1               10     1   115                     1\n",
       "85     2     34     12                3     3    95                     0\n",
       "86     2     20      3                6     1    75                     1\n",
       "87     2     35      8                8     3   100                     0\n",
       "88     1     24     10               10     1    20                     1\n",
       "89     1     19      8                8     1   160                     1"
      ]
     },
     "execution_count": 60,
     "metadata": {},
     "output_type": "execute_result"
    }
   ],
   "source": [
    "crioterapia_treino.tail(10)"
   ]
  },
  {
   "cell_type": "code",
   "execution_count": 61,
   "id": "b2d5089c",
   "metadata": {},
   "outputs": [
    {
     "data": {
      "text/plain": [
       "(90, 7)"
      ]
     },
     "execution_count": 61,
     "metadata": {},
     "output_type": "execute_result"
    }
   ],
   "source": [
    "crioterapia_treino.shape"
   ]
  },
  {
   "cell_type": "code",
   "execution_count": 62,
   "id": "f202dfea",
   "metadata": {},
   "outputs": [],
   "source": [
    "def plot_corr(crioterapia, size=10):\n",
    "    corr = crioterapia.corr()    \n",
    "    fig, ax = plt.subplots(figsize = (size, size))\n",
    "    ax.matshow(corr)  \n",
    "    plt.xticks(range(len(corr.columns)), corr.columns) \n",
    "    plt.yticks(range(len(corr.columns)), corr.columns) "
   ]
  },
  {
   "cell_type": "code",
   "execution_count": 63,
   "id": "afd68bc4",
   "metadata": {},
   "outputs": [
    {
     "data": {
      "image/png": "[encoded data removed]",
      "text/plain": [
       "<Figure size 720x720 with 1 Axes>"
      ]
     },
     "metadata": {
      "needs_background": "light"
     },
     "output_type": "display_data"
    }
   ],
   "source": [
    "plot_corr(crioterapia_treino)"
   ]
  },
  {
   "cell_type": "code",
   "execution_count": 65,
   "id": "87bffba6",
   "metadata": {},
   "outputs": [],
   "source": [
    "x_treino, x_val, y_treino, y_val = train_test_split(data_treino, data_classif, test_size=0.30)"
   ]
  },
  {
   "cell_type": "code",
   "execution_count": 66,
   "id": "f4b1aa4a",
   "metadata": {},
   "outputs": [
    {
     "name": "stdout",
     "output_type": "stream",
     "text": [
      "-----------------------\n",
      "Conjunto de Treinamento\n",
      "[[  2  15   2   3  70]\n",
      " [  2  17   3   1  63]\n",
      " [  1  19   8   1 160]\n",
      " [  1  23   7   3  72]\n",
      " [  1  30  10   1 115]\n",
      " [  1  17  10   1  63]\n",
      " [  2  15  10   3  70]\n",
      " [  1  20   3   1   6]\n",
      " [  2  15   2   1  30]\n",
      " [  2  21   5   1  35]\n",
      " [  1  22   2   1  70]\n",
      " [  2  34   3   3  95]\n",
      " [  1  59   3   3  20]\n",
      " [  1  36   2   1   8]\n",
      " [  1  17   2   1  10]\n",
      " [  1  34   1   3  95]\n",
      " [  2  34   3   3 150]\n",
      " [  2  18   1   1  80]\n",
      " [  1  35   2   1 100]\n",
      " [  1  16   3   2  60]\n",
      " [  2  15   1   1   6]\n",
      " [  1  18   1   1  80]\n",
      " [  1  24  10   1  20]\n",
      " [  1  27   7   1   6]\n",
      " [  2  15  12   1  30]\n",
      " [  1  35   9   1 100]\n",
      " [  1  27   5   1   6]\n",
      " [  2  36   4   1   8]\n",
      " [  2  16   1   2  60]\n",
      " [  1  17   4   1  63]\n",
      " [  2  17   2   1  10]\n",
      " [  1  20   3   1   6]\n",
      " [  1  15   5   1   6]\n",
      " [  2  34   3   3  95]\n",
      " [  2  23  12   3  72]\n",
      " [  1  34   1   3 150]\n",
      " [  2  15   3   1   4]\n",
      " [  2  27   2   1   6]\n",
      " [  2  35   5   3 100]\n",
      " [  2  19   9   1 160]\n",
      " [  2  21   7   1  35]\n",
      " [  1  24   8   1  20]\n",
      " [  1  20  11   1  75]\n",
      " [  1  20   2   1  75]\n",
      " [  1  15   2   1   4]\n",
      " [  1  67   1   1  42]\n",
      " [  2  50   4   3 132]\n",
      " [  1  67   7   1  42]\n",
      " [  2  67  12   3  42]\n",
      " [  2  15  12   3  70]\n",
      " [  2  18   8   1  80]\n",
      " [  2  23   5   3  72]\n",
      " [  2  41   5   2  20]\n",
      " [  1  29   5   1  96]\n",
      " [  1  15   7   1   6]\n",
      " [  1  40   9   2  80]\n",
      " [  2  41   2   2  20]\n",
      " [  2  19   6   1 160]\n",
      " [  2  35   6   3 100]\n",
      " [  2  28   9   1 100]\n",
      " [  2  35   8   3 100]\n",
      " [  1  17  12   1  10]\n",
      " [  1  28   3   1 100]]\n",
      "Conjunto de Validacao\n",
      "[[  2  22   2   1  70]\n",
      " [  1  67  11   3  20]\n",
      " [  1  50   1   3 132]\n",
      " [  2  21   5   1  35]\n",
      " [  2  36   6   1   8]\n",
      " [  1  34   1   3 150]\n",
      " [  1  29   6   1  96]\n",
      " [  1  20  12   1   6]\n",
      " [  2  22   9   1  70]\n",
      " [  2  40   6   2  80]\n",
      " [  1  50  11   3 132]\n",
      " [  2  32  12   3 750]\n",
      " [  1  15  11   1   4]\n",
      " [  1  35   5   1 100]\n",
      " [  2  30   8   3 115]\n",
      " [  1  16   3   2  60]\n",
      " [  1  32   7   3 750]\n",
      " [  1  41   2   2  20]\n",
      " [  2  24   3   3  20]\n",
      " [  2  20   6   1  75]\n",
      " [  1  15  11   1  30]\n",
      " [  2  40   1   2  80]\n",
      " [  2  32   4   3 750]\n",
      " [  1  30   2   1 115]\n",
      " [  1  29   5   1  96]\n",
      " [  2  28  11   1 100]\n",
      " [  1  63   3   3  20]]\n",
      "-----------------------\n"
     ]
    }
   ],
   "source": [
    "print(\"-----------------------\")\n",
    "print(\"Conjunto de Treinamento\")\n",
    "print(x_treino)\n",
    "print(\"Conjunto de Validacao\")\n",
    "print(x_val)\n",
    "print(\"-----------------------\")"
   ]
  },
  {
   "cell_type": "code",
   "execution_count": 68,
   "id": "bcd1a450",
   "metadata": {},
   "outputs": [
    {
     "name": "stdout",
     "output_type": "stream",
     "text": [
      "70.00% nos dados de treino\n",
      "30.00% nos dados de teste\n"
     ]
    }
   ],
   "source": [
    "print(\"{0:0.2f}% nos dados de treino\".format((len(x_treino)/len(crioterapia_treino)) * 100))\n",
    "print(\"{0:0.2f}% nos dados de teste\".format((len(x_val)/len(crioterapia_treino)) * 100))"
   ]
  },
  {
   "cell_type": "code",
   "execution_count": 69,
   "id": "d9ef5eb4",
   "metadata": {},
   "outputs": [
    {
     "data": {
      "text/plain": [
       "GaussianNB()"
      ]
     },
     "execution_count": 69,
     "metadata": {},
     "output_type": "execute_result"
    }
   ],
   "source": [
    "modelo_NB = GaussianNB()\n",
    "modelo_NB.fit(x_treino, y_treino)"
   ]
  },
  {
   "cell_type": "code",
   "execution_count": 70,
   "id": "88dd55ae",
   "metadata": {},
   "outputs": [
    {
     "name": "stdout",
     "output_type": "stream",
     "text": [
      "Predicao para o conjunto de treinamento\n",
      "Acuracia para o conjunto de treinamento\n",
      "0.7936507936507936\n",
      "Na Base de Treinamento\n"
     ]
    }
   ],
   "source": [
    "print(\"Predicao para o conjunto de treinamento\")\n",
    "y_pred_treino = modelo_NB.predict(x_treino)\n",
    "print(\"Acuracia para o conjunto de treinamento\")\n",
    "print(accuracy_score(y_treino, y_pred_treino))\n",
    "print(\"Na Base de Treinamento\")"
   ]
  },
  {
   "cell_type": "code",
   "execution_count": 71,
   "id": "cfa2b0a9",
   "metadata": {},
   "outputs": [
    {
     "name": "stdout",
     "output_type": "stream",
     "text": [
      "Predicao para o conjunto de validacao\n",
      "Acuracia para o conjunto de validacao\n",
      "0.8148148148148148\n",
      "na Base de Teste\n"
     ]
    }
   ],
   "source": [
    "\n",
    "print(\"Predicao para o conjunto de validacao\")\n",
    "y_pred_val = modelo_NB.predict(x_val)\n",
    "print(\"Acuracia para o conjunto de validacao\")\n",
    "print(accuracy_score(y_val, y_pred_val))\n",
    "print(\"na Base de Teste\")"
   ]
  },
  {
   "cell_type": "code",
   "execution_count": 72,
   "id": "3639a028",
   "metadata": {},
   "outputs": [],
   "source": [
    "from sklearn import metrics"
   ]
  },
  {
   "cell_type": "code",
   "execution_count": 73,
   "id": "977ec6f8",
   "metadata": {},
   "outputs": [
    {
     "name": "stdout",
     "output_type": "stream",
     "text": [
      "Confusion Matrix\n",
      "[[10  2]\n",
      " [ 3 12]]\n",
      "\n",
      "Classification Report\n",
      "              precision    recall  f1-score   support\n",
      "\n",
      "           1       0.77      0.83      0.80        12\n",
      "           0       0.86      0.80      0.83        15\n",
      "\n",
      "    accuracy                           0.81        27\n",
      "   macro avg       0.81      0.82      0.81        27\n",
      "weighted avg       0.82      0.81      0.82        27\n",
      "\n"
     ]
    }
   ],
   "source": [
    "print(\"Confusion Matrix\")\n",
    "\n",
    "print(\"{0}\".format(metrics.confusion_matrix(y_val, y_pred_val, labels = [1, 0])))\n",
    "print(\"\")\n",
    "\n",
    "print(\"Classification Report\")\n",
    "print(metrics.classification_report(y_val, y_pred_val, labels = [1, 0]))"
   ]
  },
  {
   "cell_type": "code",
   "execution_count": 74,
   "id": "11145d84",
   "metadata": {},
   "outputs": [],
   "source": [
    "from sklearn.ensemble import RandomForestClassifier"
   ]
  },
  {
   "cell_type": "code",
   "execution_count": 92,
   "id": "7592defb",
   "metadata": {},
   "outputs": [
    {
     "data": {
      "text/plain": [
       "RandomForestClassifier(random_state=42)"
      ]
     },
     "execution_count": 92,
     "metadata": {},
     "output_type": "execute_result"
    }
   ],
   "source": [
    "modelo_v2 = RandomForestClassifier(random_state = 42)\n",
    "modelo_v2.fit(x_treino, y_treino.ravel())"
   ]
  },
  {
   "cell_type": "code",
   "execution_count": 93,
   "id": "12178c3e",
   "metadata": {},
   "outputs": [
    {
     "name": "stdout",
     "output_type": "stream",
     "text": [
      "Exatidão (Accuracy): 1.0000\n"
     ]
    }
   ],
   "source": [
    "rf_predict_train = modelo_v2.predict(x_treino)\n",
    "print(\"Exatidão (Accuracy): {0:.4f}\".format(metrics.accuracy_score(y_treino, rf_predict_train)))"
   ]
  },
  {
   "cell_type": "code",
   "execution_count": 94,
   "id": "0406de57",
   "metadata": {},
   "outputs": [
    {
     "name": "stdout",
     "output_type": "stream",
     "text": [
      "Exatidão (Accuracy): na Base de Teste 0.8148\n",
      "\n"
     ]
    }
   ],
   "source": [
    "rf_predict_test = modelo_v2.predict(x_val)\n",
    "print(\"Exatidão (Accuracy): na Base de Teste {0:.4f}\".format(metrics.accuracy_score(y_val, rf_predict_test)))\n",
    "print()"
   ]
  },
  {
   "cell_type": "code",
   "execution_count": 95,
   "id": "7528885d",
   "metadata": {},
   "outputs": [
    {
     "name": "stdout",
     "output_type": "stream",
     "text": [
      "Confusion Matrix\n",
      "[[11  1]\n",
      " [ 4 11]]\n",
      "\n",
      "Classification Report\n",
      "              precision    recall  f1-score   support\n",
      "\n",
      "           1       0.73      0.92      0.81        12\n",
      "           0       0.92      0.73      0.81        15\n",
      "\n",
      "    accuracy                           0.81        27\n",
      "   macro avg       0.82      0.82      0.81        27\n",
      "weighted avg       0.84      0.81      0.81        27\n",
      "\n"
     ]
    }
   ],
   "source": [
    "print(\"Confusion Matrix\")\n",
    "\n",
    "print(\"{0}\".format(metrics.confusion_matrix(y_val, rf_predict_test, labels = [1, 0])))\n",
    "print(\"\")\n",
    "\n",
    "print(\"Classification Report\")\n",
    "print(metrics.classification_report(y_val, rf_predict_test, labels = [1, 0]))"
   ]
  },
  {
   "cell_type": "code",
   "execution_count": 96,
   "id": "d297fc15",
   "metadata": {},
   "outputs": [],
   "source": [
    "from sklearn.linear_model import LogisticRegression"
   ]
  },
  {
   "cell_type": "code",
   "execution_count": 97,
   "id": "3fd1c3b8",
   "metadata": {},
   "outputs": [],
   "source": [
    "modelo_v3 = LogisticRegression(C = 0.7, random_state = 42)\n",
    "modelo_v3.fit(x_treino, y_treino.ravel())\n",
    "lr_predict_test = modelo_v3.predict(x_val)"
   ]
  },
  {
   "cell_type": "code",
   "execution_count": 98,
   "id": "228e954a",
   "metadata": {},
   "outputs": [
    {
     "name": "stdout",
     "output_type": "stream",
     "text": [
      "Exatidão (Accuracy): na Base de Teste 0.7037\n",
      "\n",
      "Classification Report\n",
      "              precision    recall  f1-score   support\n",
      "\n",
      "           1       0.62      0.83      0.71        12\n",
      "           0       0.82      0.60      0.69        15\n",
      "\n",
      "    accuracy                           0.70        27\n",
      "   macro avg       0.72      0.72      0.70        27\n",
      "weighted avg       0.73      0.70      0.70        27\n",
      "\n"
     ]
    }
   ],
   "source": [
    "print(\"Exatidão (Accuracy): na Base de Teste {0:.4f}\".format(metrics.accuracy_score(y_val, lr_predict_test)))\n",
    "print()\n",
    "print(\"Classification Report\")\n",
    "print(metrics.classification_report(y_val, lr_predict_test, labels = [1, 0]))"
   ]
  },
  {
   "cell_type": "code",
   "execution_count": null,
   "id": "30f752bd",
   "metadata": {},
   "outputs": [],
   "source": [
    "# Persistência do Modelo de Machine Learning"
   ]
  },
  {
   "cell_type": "code",
   "execution_count": 209,
   "id": "dab98940",
   "metadata": {},
   "outputs": [],
   "source": [
    "from sklearn.model_selection import train_test_split \n",
    "import pandas as pd\n",
    "from sklearn.naive_bayes import MultinomialNB\n",
    "from sklearn.naive_bayes import GaussianNB\n",
    "import numpy as np\n",
    "import joblib"
   ]
  },
  {
   "cell_type": "code",
   "execution_count": 210,
   "id": "a6c512b3",
   "metadata": {},
   "outputs": [],
   "source": [
    "crioterapia = pd.read_csv('C:\\\\Users\\\\Joaol\\\\Downloads\\\\trabalho\\\\dados_cryotherapy.csv', encoding=\"utf-8\")"
   ]
  },
  {
   "cell_type": "code",
   "execution_count": 223,
   "id": "165e2fdc",
   "metadata": {},
   "outputs": [],
   "source": [
    "data_treino = np.array(crioterapia_treino[['Sexo', 'Idade', 'Numero_Verrugas']])\n",
    "\n",
    "data_classif = np.array(crioterapia_treino['Resultado_Tratamento'])\n",
    "\n",
    "x_treino, dados_val, y_treino, pols_val = train_test_split(data_treino, data_classif, test_size=0.30)"
   ]
  },
  {
   "cell_type": "code",
   "execution_count": 224,
   "id": "16d45423",
   "metadata": {},
   "outputs": [
    {
     "data": {
      "text/plain": [
       "GaussianNB()"
      ]
     },
     "execution_count": 224,
     "metadata": {},
     "output_type": "execute_result"
    }
   ],
   "source": [
    "modelo_NB = GaussianNB()\n",
    "modelo_NB.fit(x_treino, y_treino)"
   ]
  },
  {
   "cell_type": "code",
   "execution_count": 225,
   "id": "8ce3da6a",
   "metadata": {},
   "outputs": [
    {
     "data": {
      "text/plain": [
       "['crioterapia_MNB.pkl']"
      ]
     },
     "execution_count": 225,
     "metadata": {},
     "output_type": "execute_result"
    }
   ],
   "source": [
    "joblib.dump(modelo_NB, 'crioterapia_MNB.pkl')"
   ]
  },
  {
   "cell_type": "code",
   "execution_count": 226,
   "id": "0b4b5093",
   "metadata": {},
   "outputs": [],
   "source": [
    "# Utilizando o Modelo Persistido de Machine Learning "
   ]
  },
  {
   "cell_type": "code",
   "execution_count": 227,
   "id": "6d6e1c8a",
   "metadata": {},
   "outputs": [],
   "source": [
    "#Conjunto de importacoes\n",
    "from sklearn.naive_bayes import MultinomialNB\n",
    "from sklearn.naive_bayes import GaussianNB\n",
    "import joblib"
   ]
  },
  {
   "cell_type": "code",
   "execution_count": 228,
   "id": "f62fce6e",
   "metadata": {},
   "outputs": [],
   "source": [
    "modelo_NB = GaussianNB()\n",
    "#Carrega o modelo persistido no arquivo modelo_mamifero_MNB.pkl\n",
    "modelo_NB = joblib.load('crioterapia_MNB.pkl')"
   ]
  },
  {
   "cell_type": "code",
   "execution_count": 233,
   "id": "f7ba71e0",
   "metadata": {},
   "outputs": [
    {
     "name": "stdout",
     "output_type": "stream",
     "text": [
      "Digite o sexo: 2\n",
      "Digite a idade: 20\n",
      "Digite o Tempo: 3\n",
      "Digite o Numero de verrugas: 6\n"
     ]
    }
   ],
   "source": [
    "sexo = int(input(\"Digite o sexo: \"))\n",
    "idade = int(input(\"Digite a idade: \"))\n",
    "tempo = int(input(\"Digite o Tempo: \"))\n",
    "numero_Verrugas = int(input(\"Digite o Numero de verrugas: \"))\n"
   ]
  },
  {
   "cell_type": "code",
   "execution_count": 234,
   "id": "04e82ea3",
   "metadata": {},
   "outputs": [
    {
     "name": "stdout",
     "output_type": "stream",
     "text": [
      "Classificacao: [1]\n"
     ]
    }
   ],
   "source": [
    "res = modelo_NB.predict([[int(sexo), int(idade), int(tempo)]])\n",
    "print(\"Classificacao: \" + str(res))"
   ]
  },
  {
   "cell_type": "code",
   "execution_count": null,
   "id": "9c3a2513",
   "metadata": {},
   "outputs": [],
   "source": []
  },
  {
   "cell_type": "code",
   "execution_count": null,
   "id": "bfbd1d33",
   "metadata": {},
   "outputs": [],
   "source": []
  },
  {
   "cell_type": "code",
   "execution_count": null,
   "id": "c7aa291c",
   "metadata": {},
   "outputs": [],
   "source": []
  }
 ],
 "metadata": {
  "kernelspec": {
   "display_name": "Python 3 (ipykernel)",
   "language": "python",
   "name": "python3"
  },
  "language_info": {
   "codemirror_mode": {
    "name": "ipython",
    "version": 3
   },
   "file_extension": ".py",
   "mimetype": "text/x-python",
   "name": "python",
   "nbconvert_exporter": "python",
   "pygments_lexer": "ipython3",
   "version": "3.9.7"
  }
 },
 "nbformat": 4,
 "nbformat_minor": 5
}
